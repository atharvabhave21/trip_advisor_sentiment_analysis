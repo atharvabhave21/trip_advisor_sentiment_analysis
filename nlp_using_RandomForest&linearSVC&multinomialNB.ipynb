{
 "cells": [
  {
   "cell_type": "code",
   "execution_count": 26,
   "metadata": {},
   "outputs": [],
   "source": [
    "import os\n",
    "import pandas as pd\n",
    "import numpy as np\n",
    "from sklearn.naive_bayes import MultinomialNB\n",
    "from sklearn.metrics import confusion_matrix\n",
    "from sklearn.svm import LinearSVC\n",
    "from sklearn.feature_extraction.text import TfidfVectorizer\n",
    "from sklearn.model_selection import StratifiedKFold\n",
    "from sklearn.model_selection import train_test_split\n",
    "from sklearn.metrics import accuracy_score\n",
    "from sklearn.ensemble import RandomForestClassifier\n",
    "    \n",
    "import IPython; from IPython.display import display, HTML\n",
    "def dfPrint(df):\n",
    "    display(HTML(df.to_html()))\n",
    "from tqdm import tqdm\n",
    "tqdm.pandas(desc=\"progress-bar\")"
   ]
  },
  {
   "cell_type": "code",
   "execution_count": 21,
   "metadata": {},
   "outputs": [
    {
     "name": "stdout",
     "output_type": "stream",
     "text": [
      "dataset loaded with shape (38932, 5)\n"
     ]
    },
    {
     "data": {
      "text/html": [
       "<table border=\"1\" class=\"dataframe\">\n",
       "  <thead>\n",
       "    <tr style=\"text-align: right;\">\n",
       "      <th></th>\n",
       "      <th>User_ID</th>\n",
       "      <th>Description</th>\n",
       "      <th>Sentiment</th>\n",
       "    </tr>\n",
       "  </thead>\n",
       "  <tbody>\n",
       "    <tr>\n",
       "      <th>38348</th>\n",
       "      <td>id48674</td>\n",
       "      <td>I've stayed in quite a number of budget hotels...</td>\n",
       "      <td>0</td>\n",
       "    </tr>\n",
       "    <tr>\n",
       "      <th>36066</th>\n",
       "      <td>id46392</td>\n",
       "      <td>Modern hotel located conveniently near all ame...</td>\n",
       "      <td>1</td>\n",
       "    </tr>\n",
       "    <tr>\n",
       "      <th>31774</th>\n",
       "      <td>id42100</td>\n",
       "      <td>This was a dream, after cancelling our reserva...</td>\n",
       "      <td>1</td>\n",
       "    </tr>\n",
       "    <tr>\n",
       "      <th>29539</th>\n",
       "      <td>id39865</td>\n",
       "      <td>I stayed here for a business trip and stayed e...</td>\n",
       "      <td>1</td>\n",
       "    </tr>\n",
       "    <tr>\n",
       "      <th>27314</th>\n",
       "      <td>id37640</td>\n",
       "      <td>Though the hotel is not located in downtown LA...</td>\n",
       "      <td>0</td>\n",
       "    </tr>\n",
       "  </tbody>\n",
       "</table>"
      ],
      "text/plain": [
       "<IPython.core.display.HTML object>"
      ]
     },
     "metadata": {},
     "output_type": "display_data"
    }
   ],
   "source": [
    "def import_data():\n",
    "    train_path = \"./data/nlp_trip_advisor/train.csv\"\n",
    "    data = pd.read_csv(train_path)\n",
    "    data = data[data.Is_Response.isnull() == False]\n",
    "#     data['Is_Response'] = data['Is_Response'].map(int)\n",
    "    data = data[data['Description'].isnull() == False]\n",
    "    data.reset_index(inplace=True)\n",
    "    data.drop('index', axis=1, inplace=True)\n",
    "    print ('dataset loaded with shape', data.shape)\n",
    "    data = pd.get_dummies(data, columns=[\"Is_Response\"])\n",
    "    data.drop(['Browser_Used', 'Device_Used', 'Is_Response_not happy'], axis=1, inplace=True)\n",
    "    data.columns = ['User_ID', \"Description\", \"Sentiment\"]\n",
    "    return data\n",
    "\n",
    "data = import_data()\n",
    "dfPrint(data.sample(5))"
   ]
  },
  {
   "cell_type": "code",
   "execution_count": 22,
   "metadata": {},
   "outputs": [],
   "source": [
    "############### define documents ################\n",
    "docs = data[\"Description\"]\n",
    "############# define class labels ###############\n",
    "labels = data[\"Sentiment\"]\n",
    "################## split_data ##################\n",
    "docs_train, docs_test, labels_train, labels_test = train_test_split(docs, labels, test_size=0.2, random_state=69)\n"
   ]
  },
  {
   "cell_type": "code",
   "execution_count": 23,
   "metadata": {},
   "outputs": [],
   "source": [
    "############### vectorizing data ###############\n",
    "vectorizer = TfidfVectorizer(min_df=5, max_df = 0.8, sublinear_tf=True, use_idf=True,stop_words='english')\n",
    "train_tf_idf = vectorizer.fit_transform(docs_train) \n",
    "test_tf_idf = vectorizer.transform(docs_test)"
   ]
  },
  {
   "cell_type": "code",
   "execution_count": 54,
   "metadata": {},
   "outputs": [
    {
     "name": "stdout",
     "output_type": "stream",
     "text": [
      "0.868755618338\n"
     ]
    }
   ],
   "source": [
    "############# defining momdels ##################\n",
    "model1 = LinearSVC(dual=False)\n",
    "############## fitting model ####################\n",
    "model1.fit(train_tf_idf,labels_train)\n",
    "############## calculating results #############\n",
    "result1 = model1.predict(test_tf_idf)\n",
    "############## evaluating model ################\n",
    "score1 = accuracy_score(labels_test, result1, normalize=True, sample_weight=None)\n",
    "\n",
    "print(score1)"
   ]
  },
  {
   "cell_type": "code",
   "execution_count": 32,
   "metadata": {},
   "outputs": [
    {
     "name": "stdout",
     "output_type": "stream",
     "text": [
      "0.854115834082\n"
     ]
    }
   ],
   "source": [
    "############# defining momdels ##################\n",
    "model2 = MultinomialNB()\n",
    "############## fitting model ####################\n",
    "model2.fit(train_tf_idf,labels_train)\n",
    "############## calculating results #############\n",
    "result2 = model2.predict(test_tf_idf)\n",
    "############## evaluating model ################\n",
    "score2 = accuracy_score(labels_test, result2, normalize=True, sample_weight=None)\n",
    "\n",
    "print(score2)"
   ]
  },
  {
   "cell_type": "code",
   "execution_count": 53,
   "metadata": {},
   "outputs": [
    {
     "name": "stdout",
     "output_type": "stream",
     "text": [
      "0.813406960318\n"
     ]
    }
   ],
   "source": [
    "############# defining momdels ##################\n",
    "model3 = RandomForestClassifier(n_estimators=25,max_depth=50,min_samples_leaf=10, random_state=0)\n",
    "############## fitting model ####################\n",
    "model3.fit(train_tf_idf,labels_train)\n",
    "############## calculating results #############\n",
    "result3 = model3.predict(test_tf_idf)\n",
    "\n",
    "############## evaluating model ################\n",
    "score3 = accuracy_score(labels_test, result3, normalize=True, sample_weight=None)\n",
    "\n",
    "print(score3)"
   ]
  },
  {
   "cell_type": "code",
   "execution_count": null,
   "metadata": {},
   "outputs": [],
   "source": []
  }
 ],
 "metadata": {
  "kernelspec": {
   "display_name": "Python 3",
   "language": "python",
   "name": "python3"
  },
  "language_info": {
   "codemirror_mode": {
    "name": "ipython",
    "version": 3
   },
   "file_extension": ".py",
   "mimetype": "text/x-python",
   "name": "python",
   "nbconvert_exporter": "python",
   "pygments_lexer": "ipython3",
   "version": "3.5.2"
  }
 },
 "nbformat": 4,
 "nbformat_minor": 2
}
